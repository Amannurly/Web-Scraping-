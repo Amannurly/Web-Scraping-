{
 "cells": [
  {
   "cell_type": "code",
   "execution_count": 11,
   "metadata": {},
   "outputs": [],
   "source": [
    "from bs4 import BeautifulSoup\n",
    "import requests"
   ]
  },
  {
   "cell_type": "code",
   "execution_count": 19,
   "metadata": {},
   "outputs": [],
   "source": [
    "html_text = requests.get('https://www.timesjobs.com/candidate/job-search.html?searchType=personalizedSearch&from=submit&txtKeywords=python&txtLocation=').text"
   ]
  },
  {
   "cell_type": "code",
   "execution_count": 21,
   "metadata": {},
   "outputs": [],
   "source": [
    "soup = BeautifulSoup(html_text, 'lxml')\n"
   ]
  },
  {
   "cell_type": "code",
   "execution_count": 28,
   "metadata": {},
   "outputs": [
    {
     "name": "stdout",
     "output_type": "stream",
     "text": [
      "Surya Informatics Solutions Pvt. Ltd.\n"
     ]
    }
   ],
   "source": [
    "job = soup.find('li', class_='clearfix job-bx wht-shd-bx')\n",
    "company_name = job.find('h3', class_='joblist-comp-name').text.strip()\n",
    "print(company_name)"
   ]
  },
  {
   "cell_type": "code",
   "execution_count": 27,
   "metadata": {},
   "outputs": [
    {
     "name": "stdout",
     "output_type": "stream",
     "text": [
      "python  ,  web technologies  ,  linux  ,  mobile  ,  mysql  ,  angularjs  ,  javascript\n"
     ]
    }
   ],
   "source": [
    "skills = job.find('span', class_='srp-skills').text.strip()\n",
    "print(skills)"
   ]
  },
  {
   "cell_type": "code",
   "execution_count": 30,
   "metadata": {},
   "outputs": [
    {
     "name": "stdout",
     "output_type": "stream",
     "text": [
      "\n",
      "Company name: Surya Informatics Solutions Pvt. Ltd.\n",
      "Required Skills: python  ,  web technologies  ,  linux  ,  mobile  ,  mysql  ,  angularjs  ,  javascript\n",
      "\n"
     ]
    }
   ],
   "source": [
    "print(f'''\n",
    "Company name: {company_name}\n",
    "Required Skills: {skills}\n",
    "''')"
   ]
  },
  {
   "cell_type": "code",
   "execution_count": 31,
   "metadata": {},
   "outputs": [
    {
     "name": "stdout",
     "output_type": "stream",
     "text": [
      "Posted few days ago\n"
     ]
    }
   ],
   "source": [
    "published_date = job.find('span', class_='sim-posted').text.strip()\n",
    "print(published_date)"
   ]
  },
  {
   "cell_type": "code",
   "execution_count": 34,
   "metadata": {},
   "outputs": [
    {
     "name": "stdout",
     "output_type": "stream",
     "text": [
      "\n",
      "    Company name: Surya Informatics Solutions Pvt. Ltd.\n",
      "    Required Skills: python  ,  web technologies  ,  linux  ,  mobile  ,  mysql  ,  angularjs  ,  javascript\n",
      "    \n",
      "\n",
      "    Company name: E FRIEND TECHNOLOGIES\r\n",
      "     (More Jobs)\n",
      "    Required Skills: python  ,  django  ,  Css\n",
      "    \n",
      "\n",
      "    Company name: route mobile ltd\n",
      "    Required Skills: python  ,  django  ,  postgresql  ,  mysql  ,  docker\n",
      "    \n",
      "\n",
      "    Company name: toolyt\n",
      "    Required Skills: algorithms  ,  python  ,  machine learning  ,  django\n",
      "    \n",
      "\n",
      "    Company name: Perfios Software\n",
      "    Required Skills: python  ,  java  ,  scala\n",
      "    \n",
      "\n",
      "    Company name: MUSIKAAR\n",
      "    Required Skills: python  ,  problem solving  ,  django  ,  mysql\n",
      "    \n",
      "\n",
      "    Company name: KPMG India Pvt Ltd\n",
      "    Required Skills: docker  ,  database  ,  software engineer  ,  teamcity  ,  python  ,  django\n",
      "    \n",
      "\n",
      "    Company name: KPMG India Pvt Ltd\n",
      "    Required Skills: docker  ,  database  ,  software engineer  ,  teamcity  ,  python  ,  django\n",
      "    \n",
      "\n",
      "    Company name: Triadss Tech Solutions\n",
      "    Required Skills: python  ,  django  ,  html5  ,  javascript\n",
      "    \n",
      "\n",
      "    Company name: Claritaz TechLabs LLP\n",
      "    Required Skills: python  ,  django  ,  git  ,  rest api  ,  multithreading  ,  shell scripting  ,  api\n",
      "    \n",
      "\n",
      "    Company name: Ivan Infotech Pvt. Ltd.\n",
      "    Required Skills: rest  ,  python  ,  security  ,  debugging\n",
      "    \n",
      "\n",
      "    Company name: Wing Global IT Services\n",
      "    Required Skills: spring boot  ,  python  ,  java  ,  django  ,  jpa  ,  hibernate\n",
      "    \n",
      "\n",
      "    Company name: TandA HR Solutions\n",
      "    Required Skills: python  ,  git  ,  django\n",
      "    \n",
      "\n",
      "    Company name: east india securities ltd.\n",
      "    Required Skills: python  ,  hadoop  ,  machine learning\n",
      "    \n",
      "\n",
      "    Company name: Datagrid Solutions\n",
      "    Required Skills: python  ,  database  ,  django  ,  mysql  ,  api\n",
      "    \n",
      "\n",
      "    Company name: appy pie\n",
      "    Required Skills: python  ,  django  ,  html5  ,  javascript\n",
      "    \n",
      "\n",
      "    Company name: JobsLo Consultants\n",
      "    Required Skills: python  ,  linux  ,  windows  ,  sql\n",
      "    \n",
      "\n",
      "    Company name: Somet Consulting Group\r\n",
      "     (More Jobs)\n",
      "    Required Skills: Software Developer  ,  Python Developer  ,  Python Scripting  ,  Django  ,  html  ,  Css  ,  Javascript  ,  Mysql  ,  Postrege  ,  flask  ,  Pandas  ,  Numpy  ,  Software Engineer  ,  Ahmedabad  ,  Gujarat\n",
      "    \n",
      "\n",
      "    Company name: art technology and software india pvt ltd\n",
      "    Required Skills: rest  ,  python  ,  database  ,  django  ,  api\n",
      "    \n",
      "\n",
      "    Company name: sjain ventures\n",
      "    Required Skills: python  ,  web developer  ,  web services\n",
      "    \n",
      "\n",
      "    Company name: APPLYCUP HIRING SOLUTIONS LLP\n",
      "    Required Skills: python   ,  Django  ,   Object Relational Mapper\n",
      "    \n",
      "\n",
      "    Company name: TandA HR Solutions\n",
      "    Required Skills: Python  ,   Django  ,   Flask\n",
      "    \n",
      "\n",
      "    Company name: young minds technology solutions pvt ltd\n",
      "    Required Skills: python  ,  html5  ,  storage  ,  javascript  ,  security  ,  django\n",
      "    \n",
      "\n",
      "    Company name: systango\n",
      "    Required Skills: python  ,  django  ,  javascript  ,  web programming\n",
      "    \n",
      "\n",
      "    Company name: CONNECTING 2 WORK\n",
      "    Required Skills: python  ,  storage  ,  django  ,  testing tools  ,  debugging\n",
      "    \n"
     ]
    }
   ],
   "source": [
    "jobs = soup.find_all('li', class_='clearfix job-bx wht-shd-bx')\n",
    "for job in jobs:\n",
    "    company_name = job.find('h3', class_='joblist-comp-name').text.strip()\n",
    "    skills = job.find('span', class_='srp-skills').text.strip()\n",
    "    print(f'''\n",
    "    Company name: {company_name}\n",
    "    Required Skills: {skills}\n",
    "    ''')"
   ]
  },
  {
   "cell_type": "code",
   "execution_count": 38,
   "metadata": {},
   "outputs": [
    {
     "name": "stdout",
     "output_type": "stream",
     "text": [
      "python\n",
      "\n",
      "            Company name: Surya Informatics Solutions Pvt. Ltd.\n",
      "            Required Skills: python  ,  web technologies  ,  linux  ,  mobile  ,  mysql  ,  angularjs  ,  javascript\n",
      "            Published Date: Posted few days ago\n",
      "            More Info: https://www.timesjobs.com/job-detail/python-surya-informatics-solutions-pvt-ltd-chennai-0-to-3-yrs-jobid-UVlLes58wutzpSvf__PLUS__uAgZw==&source=srp\n",
      "            \n",
      "\n",
      "            Company name: Perfios Software\n",
      "            Required Skills: python  ,  java  ,  scala\n",
      "            Published Date: Posted few days ago\n",
      "            More Info: https://www.timesjobs.com/job-detail/python-developer-perfios-software-bengaluru-bangalore-5-to-8-yrs-jobid-5GGtzEeKMXxzpSvf__PLUS__uAgZw==&source=srp\n",
      "            \n",
      "\n",
      "            Company name: MUSIKAAR\n",
      "            Required Skills: python  ,  problem solving  ,  django  ,  mysql\n",
      "            Published Date: Posted few days ago\n",
      "            More Info: https://www.timesjobs.com/job-detail/python-developer-musikaar-ahmedabad-1-to-3-yrs-jobid-RRc__PLUS__0POFW0VzpSvf__PLUS__uAgZw==&source=srp\n",
      "            \n",
      "\n",
      "            Company name: Triadss Tech Solutions\n",
      "            Required Skills: python  ,  django  ,  html5  ,  javascript\n",
      "            Published Date: Posted few days ago\n",
      "            More Info: https://www.timesjobs.com/job-detail/python-developer-triadss-tech-solutions-chennai-0-to-3-yrs-jobid-GRSjUIBv0fpzpSvf__PLUS__uAgZw==&source=srp\n",
      "            \n",
      "\n",
      "            Company name: Ivan Infotech Pvt. Ltd.\n",
      "            Required Skills: rest  ,  python  ,  security  ,  debugging\n",
      "            Published Date: Posted few days ago\n",
      "            More Info: https://www.timesjobs.com/job-detail/python-developer-ivan-infotech-pvt-ltd-kolkata-2-to-5-yrs-jobid-1h6sLaqbaBZzpSvf__PLUS__uAgZw==&source=srp\n",
      "            \n",
      "\n",
      "            Company name: Wing Global IT Services\n",
      "            Required Skills: spring boot  ,  python  ,  java  ,  django  ,  jpa  ,  hibernate\n",
      "            Published Date: Posted few days ago\n",
      "            More Info: https://www.timesjobs.com/job-detail/python-developer-wing-global-it-services-panchkula-2-to-5-yrs-jobid-__PLUS__fePw2G3HHZzpSvf__PLUS__uAgZw==&source=srp\n",
      "            \n",
      "\n",
      "            Company name: TandA HR Solutions\n",
      "            Required Skills: python  ,  git  ,  django\n",
      "            Published Date: Posted few days ago\n",
      "            More Info: https://www.timesjobs.com/job-detail/python-developer-tanda-hr-solutions-gurgaon-chandigarh-4-to-6-yrs-jobid-2OM9xzKEDx5zpSvf__PLUS__uAgZw==&source=srp\n",
      "            \n",
      "\n",
      "            Company name: east india securities ltd.\n",
      "            Required Skills: python  ,  hadoop  ,  machine learning\n",
      "            Published Date: Posted few days ago\n",
      "            More Info: https://www.timesjobs.com/job-detail/python-engineer-east-india-securities-ltd-kolkata-2-to-5-yrs-jobid-KEkE19WqPbFzpSvf__PLUS__uAgZw==&source=srp\n",
      "            \n",
      "\n",
      "            Company name: Datagrid Solutions\n",
      "            Required Skills: python  ,  database  ,  django  ,  mysql  ,  api\n",
      "            Published Date: Posted few days ago\n",
      "            More Info: https://www.timesjobs.com/job-detail/python-developer-datagrid-solutions-mumbai-2-to-3-yrs-jobid-yAspoeIZIo5zpSvf__PLUS__uAgZw==&source=srp\n",
      "            \n",
      "\n",
      "            Company name: appy pie\n",
      "            Required Skills: python  ,  django  ,  html5  ,  javascript\n",
      "            Published Date: Posted few days ago\n",
      "            More Info: https://www.timesjobs.com/job-detail/python-developer-appy-pie-noida-greater-noida-1-to-2-yrs-jobid-asjc2D3v35JzpSvf__PLUS__uAgZw==&source=srp\n",
      "            \n",
      "\n",
      "            Company name: JobsLo Consultants\n",
      "            Required Skills: python  ,  linux  ,  windows  ,  sql\n",
      "            Published Date: Posted few days ago\n",
      "            More Info: https://www.timesjobs.com/job-detail/python-developer-jobslo-consultants-indore-2-to-3-yrs-jobid-XP1detWpoa5zpSvf__PLUS__uAgZw==&source=srp\n",
      "            \n",
      "\n",
      "            Company name: art technology and software india pvt ltd\n",
      "            Required Skills: rest  ,  python  ,  database  ,  django  ,  api\n",
      "            Published Date: Posted few days ago\n",
      "            More Info: https://www.timesjobs.com/job-detail/python-developer-art-technology-and-software-india-pvt-ltd-cochin-kochi-ernakulam-2-to-3-yrs-jobid-M26lxDEd__PLUS__qtzpSvf__PLUS__uAgZw==&source=srp\n",
      "            \n",
      "\n",
      "            Company name: sjain ventures\n",
      "            Required Skills: python  ,  web developer  ,  web services\n",
      "            Published Date: Posted few days ago\n",
      "            More Info: https://www.timesjobs.com/job-detail/python-intern-sjain-ventures-raipur-0-to-3-yrs-jobid-KmspiL9__SLASH__D9hzpSvf__PLUS__uAgZw==&source=srp\n",
      "            \n",
      "\n",
      "            Company name: APPLYCUP HIRING SOLUTIONS LLP\n",
      "            Required Skills: python   ,  Django  ,   Object Relational Mapper\n",
      "            Published Date: Posted few days ago\n",
      "            More Info: https://www.timesjobs.com/job-detail/python-developer-applycup-hiring-solutions-llp-surat-3-to-5-yrs-jobid-uj9JLhqjw6dzpSvf__PLUS__uAgZw==&source=srp\n",
      "            \n",
      "\n",
      "            Company name: young minds technology solutions pvt ltd\n",
      "            Required Skills: python  ,  html5  ,  storage  ,  javascript  ,  security  ,  django\n",
      "            Published Date: Posted few days ago\n",
      "            More Info: https://www.timesjobs.com/job-detail/python-developer-young-minds-technology-solutions-pvt-ltd-tirupati-0-to-3-yrs-jobid-NDA__SLASH__WwOTUCFzpSvf__PLUS__uAgZw==&source=srp\n",
      "            \n",
      "\n",
      "            Company name: systango\n",
      "            Required Skills: python  ,  django  ,  javascript  ,  web programming\n",
      "            Published Date: Posted few days ago\n",
      "            More Info: https://www.timesjobs.com/job-detail/python-developer-systango-indore-5-to-8-yrs-jobid-YtDomXdajg5zpSvf__PLUS__uAgZw==&source=srp\n",
      "            \n",
      "\n",
      "            Company name: CONNECTING 2 WORK\n",
      "            Required Skills: python  ,  storage  ,  django  ,  testing tools  ,  debugging\n",
      "            Published Date: Posted few days ago\n",
      "            More Info: https://www.timesjobs.com/job-detail/python-developer-connecting-2-work-thiruvananthapuram-5-to-10-yrs-jobid-Tebue__SLASH__8iTzVzpSvf__PLUS__uAgZw==&source=srp\n",
      "            \n"
     ]
    }
   ],
   "source": [
    "familiar_with = input('')\n",
    "jobs = soup.find_all('li', class_='clearfix job-bx wht-shd-bx')\n",
    "for job in jobs:\n",
    "    published_date = job.find('span', class_='sim-posted').text.strip()\n",
    "    if 'few' in published_date:\n",
    "        company_name = job.find('h3', class_='joblist-comp-name').text.strip()\n",
    "        more_info= job.header.h2.a['href']\n",
    "        skills = job.find('span', class_='srp-skills').text.strip()\n",
    "        if familiar_with in skills:\n",
    "            print(f'''\n",
    "            Company name: {company_name}\n",
    "            Required Skills: {skills}\n",
    "            Published Date: {published_date}\n",
    "            More Info: {more_info}\n",
    "            ''')"
   ]
  },
  {
   "cell_type": "code",
   "execution_count": null,
   "metadata": {},
   "outputs": [],
   "source": []
  }
 ],
 "metadata": {
  "kernelspec": {
   "display_name": "Python 3",
   "language": "python",
   "name": "python3"
  },
  "language_info": {
   "codemirror_mode": {
    "name": "ipython",
    "version": 3
   },
   "file_extension": ".py",
   "mimetype": "text/x-python",
   "name": "python",
   "nbconvert_exporter": "python",
   "pygments_lexer": "ipython3",
   "version": "3.7.6"
  }
 },
 "nbformat": 4,
 "nbformat_minor": 4
}
